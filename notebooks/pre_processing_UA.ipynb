{
 "cells": [
  {
   "cell_type": "markdown",
   "metadata": {},
   "source": [
    "# Urban Atlas pre-processing\n",
    "\n",
    "\n",
    "This notebook creates the mapping between UA landuse and the grid. It also counts the percentage of UA class for each cell."
   ]
  },
  {
   "cell_type": "markdown",
   "metadata": {},
   "source": [
    "### Setup"
   ]
  },
  {
   "cell_type": "code",
   "execution_count": 113,
   "metadata": {},
   "outputs": [],
   "source": [
    "import os,re\n",
    "import pandas as pd\n",
    "import numpy as np\n",
    "import geopandas as gpd\n",
    "from shapely.geometry import Polygon, Point\n",
    "# from geopy.distance import vincenty\n",
    "import osmnx\n",
    "from sklearn import preprocessing\n",
    "import pathlib\n",
    "import matplotlib.pyplot as plt\n",
    "pd.options.display.max_colwidth = 1000\n",
    "\n",
    "%matplotlib inline"
   ]
  },
  {
   "cell_type": "code",
   "execution_count": 114,
   "metadata": {},
   "outputs": [],
   "source": [
    "# SET CITY NAME\n",
    "CITIES = [\"barcelona\", \"london\",\"paris\",\"milan\",\"amsterdam\",\"lisbon\"]\n",
    "CITY_NAME= CITIES[0]"
   ]
  },
  {
   "cell_type": "code",
   "execution_count": 116,
   "metadata": {},
   "outputs": [],
   "source": [
    "tessellation_sizes = [50,100,200,250]\n",
    "SIZE = 200"
   ]
  },
  {
   "cell_type": "code",
   "execution_count": 117,
   "metadata": {},
   "outputs": [],
   "source": [
    "# Base directory\n",
    "BASE_DIR = os.path.abspath(\".\")\n",
    "# base directory for data files\n",
    "BASE_DIR_DATA = os.path.join(BASE_DIR, \"data\")\n",
    "# Base dir for a city data\n",
    "BASE_DIR_CITY = os.path.join(BASE_DIR_DATA , CITY_NAME)\n",
    "# Base dir for the city tesselation/grid\n",
    "BASE_DIR_TESSELLATION = os.path.join(BASE_DIR_CITY, \"tessellation\")\n",
    "# Empty tesselation/grid \n",
    "TESSELLATION = os.path.join(BASE_DIR_TESSELLATION, \"tessellation_\"+CITY_NAME +\"-Square-\"+ str(SIZE) +\".geojson\")\n",
    "# Base dir landuse from Urban Atlas\n",
    "BASE_DIR_LANDUSE = os.path.join(BASE_DIR_CITY, 'landuse')\n",
    "# City shape fron Nominatim API\n",
    "OUTPUT_CITY_SHAPE = os.path.join(BASE_DIR_CITY,'osm_raw', CITY_NAME + \".geojson\")\n",
    "#  POIs in Polygon(city shape), output of the clipping operation\n",
    "OUTPUT_POIS = os.path.join(BASE_DIR_CITY, CITY_NAME +\"_POIs.csv\")\n",
    "# Foursquare raw data (formerly known as FOURSQUARE_GRID)\n",
    "FOURSQUARE_RAW_DATA = os.path.join(BASE_DIR_CITY, 'foursquare_raw', CITY_NAME +\"_POIs.csv\")\n",
    "\n"
   ]
  },
  {
   "cell_type": "code",
   "execution_count": 118,
   "metadata": {},
   "outputs": [],
   "source": [
    "def readShapefile(d):\n",
    "    p = pathlib.Path(d)\n",
    "    for sub_path in p.iterdir():\n",
    "        if sub_path.is_dir():\n",
    "            for sub_sub_path in sub_path.iterdir():\n",
    "                if sub_sub_path.is_dir() and sub_sub_path.name== \"Shapefiles\":\n",
    "                    for fileName in sub_sub_path.iterdir():\n",
    "                        if fileName.name.endswith(\".shp\") and not fileName.name.startswith('Boundary'):\n",
    "                            return str(fileName.absolute())\n",
    "\n",
    "\n",
    "# Urban Atlas landuse\n",
    "UA_LANDUSE = readShapefile(BASE_DIR_LANDUSE)"
   ]
  },
  {
   "cell_type": "markdown",
   "metadata": {},
   "source": [
    "### Aggregate Land-Use classes"
   ]
  },
  {
   "cell_type": "code",
   "execution_count": 119,
   "metadata": {},
   "outputs": [],
   "source": [
    "# Load data\n",
    "landuse = gpd.read_file(UA_LANDUSE)"
   ]
  },
  {
   "cell_type": "code",
   "execution_count": null,
   "metadata": {},
   "outputs": [],
   "source": [
    "# filla Nan\n",
    "landuse[\"ITEM2012\"] = landuse[\"ITEM2012\"].fillna('Undefined')"
   ]
  },
  {
   "cell_type": "code",
   "execution_count": 122,
   "metadata": {},
   "outputs": [],
   "source": [
    "# rename classes akin to gonzalez's\n",
    "# landuse[\"ITEM2012\"].replace(to_replace=[\"Airports\",\"Port areas\"], value=\"Transportation & Utility\", inplace=True)\n",
    "\n",
    "# High Density Urban Fabric\n",
    "landuse[\"ITEM2012\"].replace(to_replace=\"Continuous urban fabric (S.L. : > 80%)\", value=\"High Density Urban Fabric\", inplace=True)\n",
    "landuse[\"ITEM2012\"].replace(to_replace=\"Discontinuous dense urban fabric (S.L. : 50% -  80%)\", value=\"High Density Urban Fabric\", inplace=True)\n",
    "\n",
    "# Medium Density Urban Fabric\n",
    "landuse[\"ITEM2012\"].replace(to_replace=\"Discontinuous medium density urban fabric (S.L. : 30% - 50%)\", value=\"Medium Density Urban Fabric\", inplace=True)\n",
    "\n",
    "# Low Density Urban Fabric\n",
    "landuse[\"ITEM2012\"].replace(to_replace=\"Discontinuous low density urban fabric (S.L. : 10% - 30%)\", value=\"Low Density Urban Fabric\", inplace=True)\n",
    "landuse[\"ITEM2012\"].replace(to_replace=\"Discontinuous very low density urban fabric (S.L. : < 10%)\", value=\"Low Density Urban Fabric\", inplace=True)\n",
    "# landuse[\"ITEM2012\"].replace(to_replace=\"Isolated structures\", value=\"Low Density Urban Fabric\", inplace=True)\n",
    "\n",
    "# Airports\n",
    "# NOTE: Commenting line below as it doesn't need to be replaced\n",
    "# landuse[\"ITEM2012\"].replace(to_replace=\"Airports\", value=\"Transportation & Utility\", inplace=True)\n",
    "# landuse[\"ITEM2012\"].replace(to_replace=\"Port areas\", value=\"Transportation & Utility\", inplace=True)\n",
    "# landuse[\"ITEM2012\"].replace(to_replace=\"Fast transit roads and associated land\", value=\"Transportation & Utility\", inplace=True)\n",
    "# landuse[\"ITEM2012\"].replace(to_replace=\"Other roads and associated land\", value=\"Transportation & Utility\", inplace=True)\n",
    "# landuse[\"ITEM2012\"].replace(to_replace=\"Railways and associated land\", value=\"Transportation & Utility\", inplace=True)\n",
    "    \n",
    "# Green urban areas\n",
    "# NOTE: Commenting line below as it doesn't need to be replaced\n",
    "# landuse[\"ITEM2012\"].replace(to_replace=\"Green urban areas\", value=\"Open Space & Recreation\", inplace=True)\n",
    "\n",
    "# Sports and leisure facilities\n",
    "# landuse[\"ITEM2012\"].replace(to_replace=\"Sports and leisure facilities\", value=\"Open Space & Recreation\", inplace=True)\n",
    "# landuse[\"ITEM2012\"].replace(to_replace=\"Open spaces with little or no vegetation (beaches, dunes, bare rocks, glaciers)\", value=\"Open Space & Recreation\", inplace=True)\n",
    "\n",
    "# Agrcltrl Seminatural Wetlands\n",
    "landuse[\"ITEM2012\"].replace(to_replace=\"Arable land (annual crops)\", value=\"Agrcltrl Seminatural Wetlands\", inplace=True)\n",
    "landuse[\"ITEM2012\"].replace(to_replace=\"Permanent crops (vineyards, fruit trees, olive groves)\", value=\"Agrcltrl Seminatural Wetlands\", inplace=True)\n",
    "landuse[\"ITEM2012\"].replace(to_replace=\"Pastures\", value=\"Agrcltrl Seminatural Wetlands\", inplace=True)\n",
    "landuse[\"ITEM2012\"].replace(to_replace=\"Complex and mixed cultivation patterns\", value=\"Agrcltrl Seminatural Wetlands\", inplace=True)\n",
    "landuse[\"ITEM2012\"].replace(to_replace=\"Orchads\", value=\"Agrcltrl Seminatural Wetlands\", inplace=True)\n",
    "landuse[\"ITEM2012\"].replace(to_replace=\"Wetlands\", value=\"Agrcltrl Seminatural Wetlands\", inplace=True)\n",
    "landuse[\"ITEM2012\"].replace(to_replace=\"Open spaces with little or no vegetation (beaches, dunes, bare rocks, glaciers)\", value=\"Agrcltrl Seminatural Wetlands\", inplace=True)\n",
    "landuse[\"ITEM2012\"].replace(to_replace=\"Herbaceous vegetation associations (natural grassland, moors...)\", value=\"Agrcltrl Seminatural Wetlands\", inplace=True)\n",
    "\n",
    "# landuse[\"ITEM2012\"].replace(to_replace=\"Construction sites\", value=\"Construction Sites\", inplace=True)\n",
    "# landuse[\"ITEM2012\"].replace(to_replace=\"Mineral extraction and dump sites\", value=\"Construction Sites\", inplace=True)\n",
    "\n",
    "# landuse[\"ITEM2012\"].replace(to_replace=\"Forest\", value=\"Forests\", inplace=True)\n",
    "# landuse[\"ITEM2012\"].replace(to_replace=\"Herbaceous vegetation associations (natural grassland, moors...)\", value=\"Forests\", inplace=True)\n",
    "\n",
    "# Water bodies\n",
    "landuse[\"ITEM2012\"].replace(to_replace=\"Water\", value=\"Water bodies\", inplace=True)"
   ]
  },
  {
   "cell_type": "code",
   "execution_count": 125,
   "metadata": {},
   "outputs": [],
   "source": [
    "# Aggregate classes\n",
    "admitted_classes = ['Water bodies','Sports and leisure facilities', 'High Density Urban Fabric','Medium Density Urban Fabric', 'Low Density Urban Fabric', 'Industrial Commercial','Public Units','Green urban areas','Forests','Airports','Agrcltrl Seminatural Wetlands',\"Industrial, commercial, public, military and private units\"]\n",
    "landuse_admitted = landuse.loc[landuse['ITEM2012'].isin(admitted_classes)]"
   ]
  },
  {
   "cell_type": "code",
   "execution_count": 1,
   "metadata": {},
   "outputs": [
    {
     "ename": "NameError",
     "evalue": "name 'landuse' is not defined",
     "output_type": "error",
     "traceback": [
      "\u001b[0;31m---------------------------------------------------------------------------\u001b[0m",
      "\u001b[0;31mNameError\u001b[0m                                 Traceback (most recent call last)",
      "\u001b[0;32m<ipython-input-1-576417e80800>\u001b[0m in \u001b[0;36m<module>\u001b[0;34m()\u001b[0m\n\u001b[1;32m      1\u001b[0m \u001b[0;31m#  Re-project data\u001b[0m\u001b[0;34m\u001b[0m\u001b[0;34m\u001b[0m\u001b[0m\n\u001b[0;32m----> 2\u001b[0;31m \u001b[0mlanduse_admitted\u001b[0m \u001b[0;34m=\u001b[0m \u001b[0mlanduse\u001b[0m\u001b[0;34m.\u001b[0m\u001b[0mto_crs\u001b[0m\u001b[0;34m(\u001b[0m\u001b[0;34m{\u001b[0m\u001b[0;34m'init'\u001b[0m\u001b[0;34m:\u001b[0m\u001b[0;34m'epsg:3857'\u001b[0m\u001b[0;34m}\u001b[0m\u001b[0;34m)\u001b[0m\u001b[0;34m[\u001b[0m\u001b[0;34m[\u001b[0m\u001b[0;34m'ITEM2012'\u001b[0m\u001b[0;34m,\u001b[0m\u001b[0;34m'geometry'\u001b[0m\u001b[0;34m]\u001b[0m\u001b[0;34m]\u001b[0m\u001b[0;34m\u001b[0m\u001b[0m\n\u001b[0m",
      "\u001b[0;31mNameError\u001b[0m: name 'landuse' is not defined"
     ]
    }
   ],
   "source": [
    "#  Re-project data\n",
    "landuse_admitted = landuse.to_crs({'init':'epsg:3857'})[['ITEM2012','geometry']]"
   ]
  },
  {
   "cell_type": "code",
   "execution_count": 127,
   "metadata": {},
   "outputs": [],
   "source": [
    "# Drop NaNs\n",
    "landuse_admitted.dropna(inplace=True)"
   ]
  },
  {
   "cell_type": "code",
   "execution_count": 129,
   "metadata": {},
   "outputs": [],
   "source": [
    "# Create a minimum and maximum processor object\n",
    "min_max_scaler = preprocessing.MinMaxScaler()\n",
    "reshaped_geom = np.array(landuse_admitted.geometry.area/ 10**6).reshape(-1,1)\n",
    "x_scaled = min_max_scaler.fit_transform(reshaped_geom)\n",
    "landuse_admitted.loc[:,'coverage'] = x_scaled"
   ]
  },
  {
   "cell_type": "code",
   "execution_count": 131,
   "metadata": {},
   "outputs": [
    {
     "data": {
      "text/plain": [
       "<matplotlib.axes._subplots.AxesSubplot at 0x7fab7b73f978>"
      ]
     },
     "execution_count": 131,
     "metadata": {},
     "output_type": "execute_result"
    },
    {
     "data": {
      "image/png": "[encoded data removed]",
      "text/plain": [
       "<matplotlib.figure.Figure at 0x7fab7b701b38>"
      ]
     },
     "metadata": {},
     "output_type": "display_data"
    }
   ],
   "source": [
    "# Quick exploration of the obtained land-use distribution\n",
    "(landuse_admitted.groupby(['ITEM2012']).sum() / landuse_admitted['coverage'].sum()).plot(kind='bar')"
   ]
  },
  {
   "cell_type": "markdown",
   "metadata": {},
   "source": [
    "### Subset data\n",
    "Select only those cells who effectively contain Foursquare POIs"
   ]
  },
  {
   "cell_type": "code",
   "execution_count": 134,
   "metadata": {},
   "outputs": [],
   "source": [
    "# Load Empty Grid\n",
    "grid = gpd.GeoDataFrame.from_file(TESSELLATION)"
   ]
  },
  {
   "cell_type": "code",
   "execution_count": 135,
   "metadata": {},
   "outputs": [],
   "source": [
    "# Re-project\n",
    "grid = grid.to_crs({\"init\":\"epsg:3857\"})"
   ]
  },
  {
   "cell_type": "code",
   "execution_count": 136,
   "metadata": {},
   "outputs": [],
   "source": [
    "landuse_admitted.geometry = landuse_admitted.geometry.buffer(0)"
   ]
  },
  {
   "cell_type": "code",
   "execution_count": 137,
   "metadata": {},
   "outputs": [],
   "source": [
    "landuse_rows_initial = landuse_admitted.shape[0]\n",
    "grid_rows_initial = grid.shape[0]"
   ]
  },
  {
   "cell_type": "code",
   "execution_count": 138,
   "metadata": {},
   "outputs": [],
   "source": [
    "# Spatial Join\n",
    "df = gpd.sjoin(grid, landuse_admitted, op='intersects')\n",
    "df = df.merge(landuse_admitted[['geometry']], left_on='index_right', right_index=True)\n",
    "df.loc[:, 'intersection'] = df.apply(lambda row : row['geometry_y'].intersection(row['geometry_x']), axis=1)"
   ]
  },
  {
   "cell_type": "code",
   "execution_count": 139,
   "metadata": {},
   "outputs": [],
   "source": [
    "landuse_rows_sjoin = landuse_admitted.shape[0]\n",
    "grid_rows_sjoin = grid.shape[0]"
   ]
  },
  {
   "cell_type": "code",
   "execution_count": 140,
   "metadata": {},
   "outputs": [],
   "source": [
    "df = df.reset_index()[['cellID', 'ITEM2012', 'intersection']]\n",
    "df.rename(columns={'intersection': 'geometry'}, inplace=True)\n",
    "df = df.set_geometry('geometry')"
   ]
  },
  {
   "cell_type": "markdown",
   "metadata": {},
   "source": [
    "### Count percentage of land-use per grid cell"
   ]
  },
  {
   "cell_type": "code",
   "execution_count": 141,
   "metadata": {},
   "outputs": [],
   "source": [
    "#Compute the column with areas of each landuse in each cell\n",
    "df['area'] = df.geometry.area\n",
    "\n",
    "#In order to compute the total area in each cell, group by cellID and sum the area in each group\n",
    "temp = df[['cellID', 'area']].groupby('cellID').sum()\n",
    "\n",
    "temp.rename(columns={'area' : 'area_tot'}, inplace=True)\n",
    "temp = temp.reset_index()"
   ]
  },
  {
   "cell_type": "code",
   "execution_count": 143,
   "metadata": {},
   "outputs": [],
   "source": [
    "#Merge the temporary dataframe just created with the original one\n",
    "# Note: it repeates values for columns area_tot, since temp DataFrame has < rows than df DataFrame\n",
    "# print(len(temp),len(df))\n",
    "# 4921 29267\n",
    "df = df.merge(temp, on='cellID')\n",
    "df['percentage'] = df['area'] / grid.loc[0].geometry.area\n",
    "df['normalized_percentage'] = df['area'] / df['area_tot']"
   ]
  },
  {
   "cell_type": "code",
   "execution_count": 144,
   "metadata": {},
   "outputs": [],
   "source": [
    "landuse_rows_merge = landuse_admitted.shape[0]\n",
    "grid_rows_merge = grid.shape[0]"
   ]
  },
  {
   "cell_type": "code",
   "execution_count": 145,
   "metadata": {},
   "outputs": [
    {
     "name": "stdout",
     "output_type": "stream",
     "text": [
      "0                                                          Forests\n",
      "1                                  Other roads and associated land\n",
      "6                                    Agrcltrl Seminatural Wetlands\n",
      "8                                Mineral extraction and dump sites\n",
      "25                                             Isolated structures\n",
      "56      Industrial, commercial, public, military and private units\n",
      "221                                       Low Density Urban Fabric\n",
      "266                         Fast transit roads and associated land\n",
      "380                                   Railways and associated land\n",
      "742                                    Medium Density Urban Fabric\n",
      "807                                  Sports and leisure facilities\n",
      "863                                                   Water bodies\n",
      "942                                              Green urban areas\n",
      "946                                      High Density Urban Fabric\n",
      "1193                                            Construction sites\n",
      "1271                                      Land without current use\n",
      "4758                                                    Port areas\n",
      "Name: ITEM2012, dtype: object\n"
     ]
    }
   ],
   "source": [
    "#Since we care only about general landuse type for each cell, we group by cellID and LandUse,\n",
    "#summing the percentage of each activity with the same type in each cell\n",
    "df = df[['normalized_percentage','percentage', 'cellID', 'ITEM2012']].groupby(['cellID', 'ITEM2012']).sum()\n",
    "df = df.reset_index()\n",
    "\n",
    "#Compute the list of landuse column names\n",
    "lu_col = df['ITEM2012'].drop_duplicates()"
   ]
  },
  {
   "cell_type": "code",
   "execution_count": 146,
   "metadata": {},
   "outputs": [],
   "source": [
    "r = pd.pivot_table(df, values='percentage', index=['cellID'], columns=['ITEM2012']).reset_index()\n",
    "r.fillna(0,inplace=True)\n",
    "r.loc[:, \"predominant\"] = r[lu_col].idxmax(axis=1)"
   ]
  },
  {
   "cell_type": "code",
   "execution_count": 160,
   "metadata": {},
   "outputs": [],
   "source": [
    "# Filter out cell with predominant with less than 0.25\n",
    "r.loc[:,\"valid\"] = r.apply(lambda x : 1 if x[x['predominant']] > 0.25 else 0, axis=1)\n",
    "r_pivot = r.shape[0]"
   ]
  },
  {
   "cell_type": "code",
   "execution_count": 162,
   "metadata": {},
   "outputs": [
    {
     "name": "stdout",
     "output_type": "stream",
     "text": [
      "Number of valid cells 4813 \n",
      " Number of lost cells: 108 out of 4921\n"
     ]
    }
   ],
   "source": [
    "# take only the valid cells\n",
    "r = r[r[\"valid\"] != 0]\n",
    "r_pivot_valid = r.shape[0]\n",
    "print(\"Number of valid cells {valid} \\n Number of lost cells: {loss} out of {tot}\".format(tot=r_pivot, valid=r_pivot_valid, loss=(r_pivot-r_pivot_valid)))"
   ]
  },
  {
   "cell_type": "markdown",
   "metadata": {},
   "source": [
    "### Sanity Check:\n",
    "Where do the select cells fall? Are they just those on the borders of a city?"
   ]
  },
  {
   "cell_type": "code",
   "execution_count": 106,
   "metadata": {},
   "outputs": [
    {
     "name": "stdout",
     "output_type": "stream",
     "text": [
      "4600 4600 4976\n"
     ]
    }
   ],
   "source": [
    "# merge again with empty grid to have geometry\n",
    "check_valid_cells_df = r.merge(grid, on='cellID', how='left')"
   ]
  },
  {
   "cell_type": "code",
   "execution_count": 151,
   "metadata": {},
   "outputs": [],
   "source": [
    "# recast to geoDataFrame\n",
    "crs = {'init': 'epsg:3857'}\n",
    "geo_check_valid_cells_df = gpd.GeoDataFrame(check_valid_cells_df, crs=crs, geometry=check_valid_cells_df['geometry']) "
   ]
  },
  {
   "cell_type": "code",
   "execution_count": 152,
   "metadata": {},
   "outputs": [],
   "source": [
    "# subset NOT VALID cells\n",
    "not_valid_cells = geo_check_valid_cells_df[geo_check_valid_cells_df['valid'] == 0]"
   ]
  },
  {
   "cell_type": "code",
   "execution_count": 110,
   "metadata": {},
   "outputs": [],
   "source": [
    "# subset NOT VALID AND NOT ON THE COAST\n",
    "not_valid_cells_not_coastal = not_valid_cells.loc[(not_valid_cells['geometry'].centroid.y>5070000) & (not_valid_cells['geometry'].centroid.x<245000)]"
   ]
  },
  {
   "cell_type": "code",
   "execution_count": 111,
   "metadata": {},
   "outputs": [
    {
     "data": {
      "text/plain": [
       "(72, 216)"
      ]
     },
     "execution_count": 111,
     "metadata": {},
     "output_type": "execute_result"
    }
   ],
   "source": [
    "print(len(not_valid_cells_not_coastal), len(not_valid_cells))"
   ]
  },
  {
   "cell_type": "code",
   "execution_count": null,
   "metadata": {},
   "outputs": [],
   "source": [
    "# visual check\n",
    "f,ax = plt.subplots()\n",
    "landuse_admitted.plot(ax=ax, color='red')\n",
    "grid.plot(ax=ax, color='yellow')\n",
    "geo_check_valid_cells_df.plot(ax=ax, color='grey')\n",
    "not_valid_cells.plot(ax=ax , color='red')\n",
    "not_valid_cells_not_coastal.plot(ax=ax , color='yellow')"
   ]
  },
  {
   "cell_type": "code",
   "execution_count": 84,
   "metadata": {},
   "outputs": [
    {
     "data": {
      "text/plain": [
       "Index(['cellID', 'Agrcltrl Seminatural Wetlands', 'Forests',\n",
       "       'Green urban areas', 'High Density Urban Fabric',\n",
       "       'Industrial, commercial, public, military and private units',\n",
       "       'Low Density Urban Fabric', 'Medium Density Urban Fabric',\n",
       "       'Sports and leisure facilities', 'Water bodies', 'predominant'],\n",
       "      dtype='object')"
      ]
     },
     "execution_count": 84,
     "metadata": {},
     "output_type": "execute_result"
    }
   ],
   "source": [
    "not_valid_cells_not_coastal.columns[0:-5]"
   ]
  },
  {
   "cell_type": "code",
   "execution_count": 88,
   "metadata": {},
   "outputs": [
    {
     "data": {
      "text/html": [
       "<div>\n",
       "<style scoped>\n",
       "    .dataframe tbody tr th:only-of-type {\n",
       "        vertical-align: middle;\n",
       "    }\n",
       "\n",
       "    .dataframe tbody tr th {\n",
       "        vertical-align: top;\n",
       "    }\n",
       "\n",
       "    .dataframe thead th {\n",
       "        text-align: right;\n",
       "    }\n",
       "</style>\n",
       "<table border=\"1\" class=\"dataframe\">\n",
       "  <thead>\n",
       "    <tr style=\"text-align: right;\">\n",
       "      <th></th>\n",
       "      <th>cellID</th>\n",
       "      <th>Agrcltrl Seminatural Wetlands</th>\n",
       "      <th>Forests</th>\n",
       "      <th>Green urban areas</th>\n",
       "      <th>High Density Urban Fabric</th>\n",
       "      <th>Industrial, commercial, public, military and private units</th>\n",
       "      <th>Low Density Urban Fabric</th>\n",
       "      <th>Medium Density Urban Fabric</th>\n",
       "      <th>Sports and leisure facilities</th>\n",
       "      <th>Water bodies</th>\n",
       "      <th>predominant</th>\n",
       "      <th>valid</th>\n",
       "      <th>id</th>\n",
       "      <th>id_x</th>\n",
       "      <th>id_y</th>\n",
       "      <th>geometry</th>\n",
       "    </tr>\n",
       "  </thead>\n",
       "  <tbody>\n",
       "    <tr>\n",
       "      <th>3</th>\n",
       "      <td>3</td>\n",
       "      <td>0.151615</td>\n",
       "      <td>0.003918</td>\n",
       "      <td>0.0</td>\n",
       "      <td>0.0</td>\n",
       "      <td>0.0</td>\n",
       "      <td>0.0</td>\n",
       "      <td>0.0</td>\n",
       "      <td>0.0</td>\n",
       "      <td>0.0</td>\n",
       "      <td>Agrcltrl Seminatural Wetlands</td>\n",
       "      <td>0</td>\n",
       "      <td>3</td>\n",
       "      <td>1</td>\n",
       "      <td>69</td>\n",
       "      <td>POLYGON ((228682.9988183676 5073017.365142888, 228682.9988183676 5073217.365142889, 228882.9988183659 5073217.365142889, 228882.9988183659 5073017.365142888, 228682.9988183676 5073017.365142888))</td>\n",
       "    </tr>\n",
       "    <tr>\n",
       "      <th>11</th>\n",
       "      <td>11</td>\n",
       "      <td>0.000000</td>\n",
       "      <td>0.008947</td>\n",
       "      <td>0.0</td>\n",
       "      <td>0.0</td>\n",
       "      <td>0.0</td>\n",
       "      <td>0.0</td>\n",
       "      <td>0.0</td>\n",
       "      <td>0.0</td>\n",
       "      <td>0.0</td>\n",
       "      <td>Forests</td>\n",
       "      <td>0</td>\n",
       "      <td>11</td>\n",
       "      <td>2</td>\n",
       "      <td>69</td>\n",
       "      <td>POLYGON ((228882.9988183659 5073017.365142888, 228882.9988183659 5073217.365142889, 229082.9988183671 5073217.365142889, 229082.9988183671 5073017.365142888, 228882.9988183659 5073017.365142888))</td>\n",
       "    </tr>\n",
       "  </tbody>\n",
       "</table>\n",
       "</div>"
      ],
      "text/plain": [
       "    cellID  Agrcltrl Seminatural Wetlands   Forests  Green urban areas  \\\n",
       "3        3                       0.151615  0.003918                0.0   \n",
       "11      11                       0.000000  0.008947                0.0   \n",
       "\n",
       "    High Density Urban Fabric  \\\n",
       "3                         0.0   \n",
       "11                        0.0   \n",
       "\n",
       "    Industrial, commercial, public, military and private units  \\\n",
       "3                                                          0.0   \n",
       "11                                                         0.0   \n",
       "\n",
       "    Low Density Urban Fabric  Medium Density Urban Fabric  \\\n",
       "3                        0.0                          0.0   \n",
       "11                       0.0                          0.0   \n",
       "\n",
       "    Sports and leisure facilities  Water bodies  \\\n",
       "3                             0.0           0.0   \n",
       "11                            0.0           0.0   \n",
       "\n",
       "                      predominant  valid  id  id_x  id_y  \\\n",
       "3   Agrcltrl Seminatural Wetlands      0   3     1    69   \n",
       "11                        Forests      0  11     2    69   \n",
       "\n",
       "                                                                                                                                                                                               geometry  \n",
       "3   POLYGON ((228682.9988183676 5073017.365142888, 228682.9988183676 5073217.365142889, 228882.9988183659 5073217.365142889, 228882.9988183659 5073017.365142888, 228682.9988183676 5073017.365142888))  \n",
       "11  POLYGON ((228882.9988183659 5073017.365142888, 228882.9988183659 5073217.365142889, 229082.9988183671 5073217.365142889, 229082.9988183671 5073017.365142888, 228882.9988183659 5073017.365142888))  "
      ]
     },
     "execution_count": 88,
     "metadata": {},
     "output_type": "execute_result"
    }
   ],
   "source": [
    "not_valid_cells_not_coastal.head(2)"
   ]
  },
  {
   "cell_type": "code",
   "execution_count": 85,
   "metadata": {},
   "outputs": [
    {
     "data": {
      "text/plain": [
       "3                                    Agrcltrl Seminatural Wetlands\n",
       "11                                                         Forests\n",
       "317                                                        Forests\n",
       "349                                                        Forests\n",
       "350                                                        Forests\n",
       "813                                    Medium Density Urban Fabric\n",
       "824                                                        Forests\n",
       "1210    Industrial, commercial, public, military and private units\n",
       "1628    Industrial, commercial, public, military and private units\n",
       "2104                                   Medium Density Urban Fabric\n",
       "2275                                 Sports and leisure facilities\n",
       "2356                                      Low Density Urban Fabric\n",
       "2427                                 Sports and leisure facilities\n",
       "2492    Industrial, commercial, public, military and private units\n",
       "2861                                     High Density Urban Fabric\n",
       "3154                                 Sports and leisure facilities\n",
       "3389                                     High Density Urban Fabric\n",
       "3533                                     High Density Urban Fabric\n",
       "3534    Industrial, commercial, public, military and private units\n",
       "3535                                     High Density Urban Fabric\n",
       "3604                                     High Density Urban Fabric\n",
       "3653                                             Green urban areas\n",
       "3675    Industrial, commercial, public, military and private units\n",
       "3747                                 Agrcltrl Seminatural Wetlands\n",
       "3778    Industrial, commercial, public, military and private units\n",
       "3779                                             Green urban areas\n",
       "3819                                             Green urban areas\n",
       "3820                                   Medium Density Urban Fabric\n",
       "3885    Industrial, commercial, public, military and private units\n",
       "3886    Industrial, commercial, public, military and private units\n",
       "                                   ...                            \n",
       "3892                                 Agrcltrl Seminatural Wetlands\n",
       "3893                                 Agrcltrl Seminatural Wetlands\n",
       "3894                                 Agrcltrl Seminatural Wetlands\n",
       "3895                                                  Water bodies\n",
       "3954    Industrial, commercial, public, military and private units\n",
       "3957                                     High Density Urban Fabric\n",
       "4017                                     High Density Urban Fabric\n",
       "4018                                     High Density Urban Fabric\n",
       "4026                                             Green urban areas\n",
       "4058                                 Sports and leisure facilities\n",
       "4059                                             Green urban areas\n",
       "4060                                             Green urban areas\n",
       "4061    Industrial, commercial, public, military and private units\n",
       "4077                                     High Density Urban Fabric\n",
       "4080                                             Green urban areas\n",
       "4118    Industrial, commercial, public, military and private units\n",
       "4120    Industrial, commercial, public, military and private units\n",
       "4121    Industrial, commercial, public, military and private units\n",
       "4130    Industrial, commercial, public, military and private units\n",
       "4133    Industrial, commercial, public, military and private units\n",
       "4134    Industrial, commercial, public, military and private units\n",
       "4137                                             Green urban areas\n",
       "4138                                             Green urban areas\n",
       "4175    Industrial, commercial, public, military and private units\n",
       "4187                                             Green urban areas\n",
       "4189                                             Green urban areas\n",
       "4198                                             Green urban areas\n",
       "4210                                             Green urban areas\n",
       "4242                                 Agrcltrl Seminatural Wetlands\n",
       "4293                                     High Density Urban Fabric\n",
       "Length: 61, dtype: object"
      ]
     },
     "execution_count": 85,
     "metadata": {},
     "output_type": "execute_result"
    }
   ],
   "source": [
    "not_valid_cells_not_coastal.iloc[:,1:-6].idxmax(axis=1)"
   ]
  }
 ],
 "metadata": {
  "kernelspec": {
   "display_name": "Python 3",
   "language": "python",
   "name": "python3"
  },
  "language_info": {
   "codemirror_mode": {
    "name": "ipython",
    "version": 3
   },
   "file_extension": ".py",
   "mimetype": "text/x-python",
   "name": "python",
   "nbconvert_exporter": "python",
   "pygments_lexer": "ipython3",
   "version": "3.4.3"
  }
 },
 "nbformat": 4,
 "nbformat_minor": 1
}
