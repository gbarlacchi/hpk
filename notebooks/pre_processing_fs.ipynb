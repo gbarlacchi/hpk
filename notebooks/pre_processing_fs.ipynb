{
 "cells": [
  {
   "cell_type": "markdown",
   "metadata": {},
   "source": [
    "# Foursquare POIs pre-processing\n",
    "\n",
    "\n",
    "This notebook creates the mapping between Foursquare POIS and the grid for each city. It also counts the number of POIs for each cell."
   ]
  },
  {
   "cell_type": "markdown",
   "metadata": {},
   "source": [
    "### Setup"
   ]
  },
  {
   "cell_type": "code",
   "execution_count": 16,
   "metadata": {},
   "outputs": [],
   "source": [
    "%matplotlib inline\n",
    "\n",
    "import pandas as pd\n",
    "import geopandas as gpd\n",
    "import numpy as np\n",
    "from shapely.geometry import Point, Polygon\n",
    "import os\n",
    "import re\n",
    "import zipfile,fnmatch\n",
    "import matplotlib.pyplot as plt\n",
    "import pathlib\n",
    "import sys"
   ]
  },
  {
   "cell_type": "code",
   "execution_count": 17,
   "metadata": {},
   "outputs": [],
   "source": [
    "sys.path.append(os.path.abspath(\"GeoL/\"))\n",
    "from geol.utils import utils"
   ]
  },
  {
   "cell_type": "code",
   "execution_count": 18,
   "metadata": {},
   "outputs": [],
   "source": [
    "# SET CITY NAME\n",
    "CITIES = [\"barcelona\", \"london\",\"paris\",\"milan\",\"amsterdam\",\"lisbon\"]\n",
    "CITY_NAME= CITIES[0]"
   ]
  },
  {
   "cell_type": "code",
   "execution_count": 13,
   "metadata": {},
   "outputs": [],
   "source": [
    "tessellation_sizes = [50,100,200,250]\n",
    "SIZE = 200"
   ]
  },
  {
   "cell_type": "code",
   "execution_count": 19,
   "metadata": {},
   "outputs": [],
   "source": [
    "# Base directory\n",
    "BASE_DIR = os.path.abspath(\".\")\n",
    "# base directory for data files\n",
    "BASE_DIR_DATA = os.path.join(BASE_DIR, \"data\")\n",
    "# Base dir for a city data\n",
    "BASE_DIR_CITY = os.path.join(BASE_DIR_DATA , CITY_NAME)\n",
    "# Base dir for the city tesselation/grid\n",
    "BASE_DIR_TESSELLATION = os.path.join(BASE_DIR_CITY, \"tessellation\")\n",
    "# Empty tesselation/grid \n",
    "TESSELLATION = os.path.join(BASE_DIR_TESSELLATION, \"tessellation_\"+CITY_NAME +\"-Square-\"+ str(SIZE) +\".geojson\")\n",
    "# Base dir landuse from Urban Atlas\n",
    "BASE_DIR_LANDUSE = os.path.join(BASE_DIR_CITY, 'landuse')\n",
    "# Base dir landuse FourSquare\n",
    "BASE_DIR_FOURSQUARE = os.path.join(BASE_DIR_CITY, 'foursquare_raw')\n",
    "# City shape fron Nominatim API\n",
    "OUTPUT_CITY_SHAPE = os.path.join(BASE_DIR_CITY,'osm_raw', CITY_NAME + \".geojson\")\n",
    "#  POIs in Polygon(city shape), output of the clipping operation\n",
    "OUTPUT_POIS = os.path.join(BASE_DIR_CITY, CITY_NAME +\"_POIs.csv\")\n",
    "# Foursquare raw data (formerly known as FOURSQUARE_GRID)\n",
    "FOURSQUARE_RAW_DATA = os.path.join(BASE_DIR_FOURSQUARE, CITY_NAME +\"_poi.csv\")\n",
    "# Foursquare mapped to the grid/tessellation\n",
    "FOURSQUARE_TESSELLATION = os.path.join(BASE_DIR_CITY, 'mapped', CITY_NAME +\"_fs_tessellation_\"+ str(SIZE) +\".csv\")\n",
    "# Count of Foursquare features per each cell in the tessellation\n",
    "FOURSQUARE_COUNT = os.path.join(BASE_DIR_CITY, 'count', CITY_NAME +\"_fs_count_\"+ str(SIZE) +\".csv\")\n",
    "# Count of Urban Atlas features per each cell in the tessellation\n",
    "UA_COUNT = os.path.join(BASE_DIR_CITY, 'count', CITY_NAME +\"_ua_count_\"+ str(SIZE) +\".csv\")\n"
   ]
  },
  {
   "cell_type": "code",
   "execution_count": 20,
   "metadata": {},
   "outputs": [],
   "source": [
    "def readShapefile(d):\n",
    "    p = pathlib.Path(d)\n",
    "    for sub_path in p.iterdir():\n",
    "        if sub_path.is_dir():\n",
    "            for sub_sub_path in sub_path.iterdir():\n",
    "                if sub_sub_path.is_dir() and sub_sub_path.name== \"Shapefiles\":\n",
    "                    for fileName in sub_sub_path.iterdir():\n",
    "                        if fileName.name.endswith(\".shp\") and not fileName.name.startswith('Boundary'):\n",
    "                            return str(fileName.absolute())\n",
    "\n",
    "\n",
    "# Urban Atlas landuse\n",
    "UA_LANDUSE = readShapefile(BASE_DIR_LANDUSE)"
   ]
  },
  {
   "cell_type": "markdown",
   "metadata": {},
   "source": [
    "### Prepare directories"
   ]
  },
  {
   "cell_type": "code",
   "execution_count": 6,
   "metadata": {},
   "outputs": [],
   "source": [
    "directoriesToBuild = ['landuse','clipped','count','foursquare_raw','mapped','osm_raw','tessellation','test','train']\n",
    "# build folder structure for each city\n",
    "def makeDirStruct(city):\n",
    "    for directory in directoriesToBuild:\n",
    "            os.makedirs(os.path.join(BASE_DIR_DATA, city, directory), exist_ok=True)\n",
    "# unzip the raw shapefiles           \n",
    "    unzipCityShapeFiles(city)"
   ]
  },
  {
   "cell_type": "code",
   "execution_count": 5,
   "metadata": {},
   "outputs": [],
   "source": [
    "# unzip file in the appropriate city folder\n",
    "def unzipCityShapeFiles(city):\n",
    "    BASE_DIR_CITY =  os.path.join(BASE_DIR_DATA, city)\n",
    "    for fileName in os.listdir(BASE_DIR_DATA):\n",
    "        if city == fileName.split(\"_\")[0] and re.search('zip',fileName):\n",
    "            zipfile.ZipFile(os.path.join(BASE_DIR_DATA,fileName)).extractall(os.path.join(BASE_DIR_CITY,'osm_raw'))\n"
   ]
  },
  {
   "cell_type": "code",
   "execution_count": 40,
   "metadata": {},
   "outputs": [],
   "source": [
    "# create directories and unzip files\n",
    "for CITY_NAME in CITIES:\n",
    "    makeDirStruct(CITY_NAME)\n",
    "            "
   ]
  },
  {
   "cell_type": "markdown",
   "metadata": {},
   "source": [
    "### Get City Shapes"
   ]
  },
  {
   "cell_type": "code",
   "execution_count": 11,
   "metadata": {},
   "outputs": [],
   "source": [
    "# Utility function:\n",
    "# recast the columns of boolean type over to integer\n",
    "# so FIONA can save the GeoDataFrame...\n",
    "def gdf_bool_to_int(gdf):\n",
    "    \"\"\"For a given GeoDataFrame, returns a copy that\n",
    "    recasts all `bool`-type columns as `int`.\n",
    "\n",
    "    GeoDataFrame -> GeoDataFrame\"\"\"\n",
    "    df = gdf.copy()\n",
    "    coltypes = gpd.io.file.infer_schema(df)['properties']\n",
    "    for c in coltypes.items():\n",
    "        if c[1] == 'bool':\n",
    "            colname = c[0]\n",
    "            df[colname] = df[colname].astype('int')\n",
    "    return df"
   ]
  },
  {
   "cell_type": "code",
   "execution_count": 12,
   "metadata": {
    "scrolled": true
   },
   "outputs": [],
   "source": [
    "for CITY_NAME in CITIES:\n",
    "    BASE_DIR_CITY =  os.path.join(BASE_DIR_DATA, CITY_NAME)    \n",
    "    OUTPUT_CITY_SHAPE = os.path.join(BASE_DIR_CITY,'osm_raw', CITY_NAME + \".geojson\")    \n",
    "    city_shape = utils.get_area_boundary(CITY_NAME,2) # recast the columns of boolean type over to integer\n",
    "    try: \n",
    "        os.remove(OUTPUT_CITY_SHAPE)\n",
    "    except OSError:\n",
    "        pass\n",
    "    gdf_bool_to_int(city_shape).to_file(OUTPUT_CITY_SHAPE, driver=\"GeoJSON\",encoding = 'utf-8')"
   ]
  },
  {
   "cell_type": "markdown",
   "metadata": {},
   "source": [
    "### Create tessellations"
   ]
  },
  {
   "cell_type": "code",
   "execution_count": 3,
   "metadata": {},
   "outputs": [],
   "source": [
    "for CITY_NAME in CITIES:\n",
    "    BASE_DIR_CITY =  os.path.join(BASE_DIR_DATA, CITY_NAME)    \n",
    "    OUTPUT_CITY_SHAPE = os.path.join(BASE_DIR_CITY,'osm_raw', CITY_NAME + \".geojson\")    \n",
    "    BASE_DIR_TESSELLATION = os.path.join(BASE_DIR_CITY, \"tessellation\")\n",
    "    for SIZE in tessellation_sizes:\n",
    "        print (CITY_NAME, OUTPUT_CITY_SHAPE, BASE_DIR_TESSELLATION, SIZE)\n",
    "        %run GeoL/create_grid.py -a $CITY_NAME -b $OUTPUT_CITY_SHAPE -o $BASE_DIR_TESSELLATION  -v 2 -s $SIZE -m -t square"
   ]
  },
  {
   "cell_type": "markdown",
   "metadata": {},
   "source": [
    "### Remove duplicate records"
   ]
  },
  {
   "cell_type": "code",
   "execution_count": null,
   "metadata": {},
   "outputs": [],
   "source": [
    "# REMOVE DUPLICATES AND OVERWRITE THE DATA\n",
    "for CITY_NAME in CITIES:\n",
    "    BASE_DIR_CITY =  os.path.join(BASE_DIR_DATA, CITY_NAME)    \n",
    "    BASE_DIR_TESSELLATION = os.path.join(BASE_DIR_CITY, \"tessellation\")\n",
    "    # input raw Foursquare data\n",
    "    FOURSQUARE_RAW_DATA = os.path.join(BASE_DIR_CITY, 'foursquare_raw', CITY_NAME +\"_poi.csv\")\n",
    "    data = pd.read_csv(FOURSQUARE_RAW_DATA)\n",
    "    data.drop_duplicates(['name','latitude','longitude'],inplace=True)\n",
    "    data.to_csv(FOURSQUARE_RAW_DATA, index=False, sep=',')"
   ]
  },
  {
   "cell_type": "markdown",
   "metadata": {},
   "source": [
    "### Map tesselation and POIs"
   ]
  },
  {
   "cell_type": "code",
   "execution_count": 22,
   "metadata": {},
   "outputs": [],
   "source": [
    "# FOR MULTIPLE CITIES AT ONCE\n",
    "for CITY_NAME in CITIES:\n",
    "    BASE_DIR_CITY =  os.path.join(BASE_DIR_DATA, CITY_NAME)    \n",
    "    OUTPUT_CITY_SHAPE = os.path.join(BASE_DIR_CITY,'osm_raw', CITY_NAME + \".geojson\")    \n",
    "    BASE_DIR_TESSELLATION = os.path.join(BASE_DIR_CITY, \"tessellation\")\n",
    "    # input raw Foursquare data\n",
    "    FOURSQUARE_RAW_DATA = os.path.join(BASE_DIR_CITY, 'foursquare_raw', CITY_NAME +\"_poi.csv\")\n",
    "    for INPUT_TESSELLATION in os.listdir(BASE_DIR_TESSELLATION):\n",
    "        inputDir = os.path.join(BASE_DIR_TESSELLATION,INPUT_TESSELLATION)\n",
    "        outputSize = inputDir.split('-')[-1].split('.')[0]\n",
    "        # output Foursquare data mapped to the grid\n",
    "        FOURSQUARE_TESSELLATION = os.path.join(BASE_DIR_CITY, 'mapped', CITY_NAME +\"_fs_tessellation_\"+ outputSize +\".csv\")\n",
    "        print(inputDir )\n",
    "        print(FOURSQUARE_RAW_DATA)\n",
    "        print(FOURSQUARE_TESSELLATION)\n",
    "        print(\"***********************\")\n",
    "        %run GeoL/mapping.py -g $inputDir -d $FOURSQUARE_RAW_DATA -o $FOURSQUARE_TESSELLATION -n \"latitude longitude\""
   ]
  },
  {
   "cell_type": "markdown",
   "metadata": {},
   "source": [
    "### Count POIs"
   ]
  },
  {
   "cell_type": "code",
   "execution_count": 2,
   "metadata": {},
   "outputs": [],
   "source": [
    "# FOR MULTIPLE CITIES AT ONCE\n",
    "for CITY_NAME in CITIES:\n",
    "    BASE_DIR_CITY =  os.path.join(BASE_DIR_DATA, CITY_NAME)    \n",
    "    BASE_DIR_TESSELLATION = os.path.join(BASE_DIR_CITY, \"tessellation\")\n",
    "    for INPUT_TESSELLATION in os.listdir(BASE_DIR_TESSELLATION):\n",
    "        inputDir = os.path.join(BASE_DIR_TESSELLATION,INPUT_TESSELLATION)\n",
    "        outputSize = inputDir.split('-')[-1].split('.')[0]\n",
    "        # output Foursquare data mapped to the grid\n",
    "        FOURSQUARE_TESSELLATION = os.path.join(BASE_DIR_CITY, 'mapped', CITY_NAME +\"_fs_tessellation_\"+ outputSize +\".csv\")\n",
    "        FOURSQUARE_COUNT = os.path.join(BASE_DIR_CITY, 'count', CITY_NAME +\"_fs_count_\"+ outputSize +\".csv\")\n",
    "\n",
    "        print(FOURSQUARE_TESSELLATION)\n",
    "        print(FOURSQUARE_COUNT)\n",
    "        print(\"***********************\")\n",
    "        %run -i GeoL/poi_number.py -m $FOURSQUARE_TESSELLATION -l 0 -o $FOURSQUARE_COUNT"
   ]
  }
 ],
 "metadata": {
  "kernelspec": {
   "display_name": "Python 3",
   "language": "python",
   "name": "python3"
  },
  "language_info": {
   "codemirror_mode": {
    "name": "ipython",
    "version": 3
   },
   "file_extension": ".py",
   "mimetype": "text/x-python",
   "name": "python",
   "nbconvert_exporter": "python",
   "pygments_lexer": "ipython3",
   "version": "3.4.3"
  }
 },
 "nbformat": 4,
 "nbformat_minor": 2
}
